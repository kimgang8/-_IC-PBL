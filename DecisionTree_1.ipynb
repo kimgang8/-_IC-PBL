import pandas as pd
from sklearn.model_selection import train_test_split
from sklearn.tree import DecisionTreeClassifier
from sklearn.metrics import accuracy_score
import numpy as np

# 데이터 불러오기
normal_data = pd.read_csv('normal.csv')
abnormal_data = pd.read_csv('abnormal.csv')

# 정상 및 비정상 데이터 결합
combined_data = pd.concat([normal_data, abnormal_data])

# 훈련 데이터와 테스트 데이터 분리
train_data = combined_data[combined_data['motor_id'] <= 36]
test_data = combined_data[combined_data['motor_id'] > 36]

# 특성과 타겟 변수 분리
X_train = train_data.drop('class', axis=1)
y_train = train_data['class']
X_test = test_data.drop('class', axis=1)
y_test = test_data['class']

# 하이퍼파라미터 설정
max_depths = [3, 5, 10, None]
criteria = ['gini', 'entropy']

# 결과 저장을 위한 리스트
results = []

# 모델 훈련 및 평가
for depth in max_depths:
    for criterion in criteria:
        accuracies = []
        for _ in range(10):
            # 결정 트리 모델 생성 및 훈련
            model = DecisionTreeClassifier(max_depth=depth, criterion=criterion)
            model.fit(X_train, y_train)

            # 테스트 데이터에 대한 예측
            predictions = model.predict(X_test)

            # 정확도 계산
            accuracy = accuracy_score(y_test, predictions)
            accuracies.append(accuracy)

        # 평균 정확도 계산
        avg_accuracy = np.mean(accuracies)
        results.append({'max_depth': depth, 'criterion': criterion, 'average_accuracy': avg_accuracy})

# 결과 출력
results_df = pd.DataFrame(results)
print(results_df.sort_values(by='average_accuracy', ascending=False))